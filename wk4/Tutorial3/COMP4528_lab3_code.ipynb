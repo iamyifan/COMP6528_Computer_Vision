{
 "cells": [
  {
   "attachments": {},
   "cell_type": "markdown",
   "metadata": {},
   "source": [
    "## COMP4528 Lab3\n",
    "\n",
    "In this lab, we'll dive into the implementation of correlation and convolution. We'll also look into the application of these two operations.\n",
    "\n",
    "**NOTE: In this lab, we assume kernels have side lengths as odd numbers for easier implementation.**\n",
    "\n",
    "In this lab, we will cover:\n",
    "- Correlation\n",
    "- Convolution\n",
    "- Motion blur"
   ]
  },
  {
   "cell_type": "code",
   "execution_count": null,
   "metadata": {},
   "outputs": [],
   "source": [
    "import cv2\n",
    "import matplotlib.pyplot as plt\n",
    "import numpy as np\n",
    "from scipy import signal"
   ]
  },
  {
   "attachments": {},
   "cell_type": "markdown",
   "metadata": {},
   "source": [
    "### 1D correlation and convolution"
   ]
  },
  {
   "cell_type": "code",
   "execution_count": null,
   "metadata": {},
   "outputs": [],
   "source": [
    "def correlation_1d(arr, kernel):\n",
    "    # For locating the kernel center easier, we only consider kernels with odd side lengths\n",
    "    assert len(kernel) & 1\n",
    "    # TODO: Implement 1D correlation as specified in the lecture slides, using the padding scheme `valid`. Then run the test block below.\n",
    "\n",
    "\n",
    "def convolution_1d(arr, kernel):\n",
    "    assert len(kernel) & 1\n",
    "    # TODO: Implement 1D convolution as specified in the lecture slides, using the padding scheme `valid`. Then run the test block below.\n",
    "    #       You may call the correlation function above."
   ]
  },
  {
   "cell_type": "code",
   "execution_count": null,
   "metadata": {},
   "outputs": [],
   "source": [
    "def correlation_1d_test():\n",
    "    for _ in range(5):\n",
    "        input = np.random.rand(11)\n",
    "        kernel = np.random.rand(3)\n",
    "        assert np.allclose(correlation_1d(input, kernel), np.correlate(input, kernel, \"valid\"))\n",
    "    for _ in range(5):\n",
    "        input = np.random.rand(11)\n",
    "        kernel = np.random.rand(5)\n",
    "        assert np.allclose(correlation_1d(input, kernel), np.correlate(input, kernel, \"valid\"))\n",
    "    for _ in range(5):\n",
    "        input = np.random.rand(11)\n",
    "        kernel = np.random.rand(7)\n",
    "        assert np.allclose(correlation_1d(input, kernel), np.correlate(input, kernel, \"valid\"))\n",
    "\n",
    "\n",
    "def convolution_1d_test():\n",
    "    for _ in range(5):\n",
    "        input = np.random.rand(11)\n",
    "        kernel = np.random.rand(3)\n",
    "        assert np.allclose(convolution_1d(input, kernel), np.convolve(input, kernel, \"valid\"))\n",
    "    for _ in range(5):\n",
    "        input = np.random.rand(11)\n",
    "        kernel = np.random.rand(5)\n",
    "        assert np.allclose(convolution_1d(input, kernel), np.convolve(input, kernel, \"valid\"))\n",
    "    for _ in range(5):\n",
    "        input = np.random.rand(11)\n",
    "        kernel = np.random.rand(7)\n",
    "        assert np.allclose(convolution_1d(input, kernel), np.convolve(input, kernel, \"valid\"))\n",
    "\n",
    "\n",
    "correlation_1d_test()\n",
    "convolution_1d_test()"
   ]
  },
  {
   "attachments": {},
   "cell_type": "markdown",
   "metadata": {},
   "source": [
    "### 2D correlation and convolution"
   ]
  },
  {
   "cell_type": "code",
   "execution_count": null,
   "metadata": {},
   "outputs": [],
   "source": [
    "def correlation_2d(mat, kernel):\n",
    "    # For locating the kernel center easier, we only consider kernels with odd side lengths\n",
    "    assert kernel.shape[0] & 1 and kernel.shape[1] & 1\n",
    "    # TODO: Implement 2D correlation as specified in the lecture slides, using the padding scheme `valid`. Then run the test block below.\n",
    "\n",
    "\n",
    "def convolution_2d(mat, kernel):\n",
    "    assert kernel.shape[0] & 1 and kernel.shape[1] & 1\n",
    "    # TODO: Implement 2D convolution as specified in the lecture slides, using the padding scheme `valid`. Then run the test block below.\n",
    "    #       You may call the correlation function above."
   ]
  },
  {
   "cell_type": "code",
   "execution_count": null,
   "metadata": {},
   "outputs": [],
   "source": [
    "def correlation_2d_test():\n",
    "    for _ in range(5):\n",
    "        mat = np.random.rand(7, 7)\n",
    "        kernel = np.random.rand(3, 3)\n",
    "        assert np.allclose(correlation_2d(mat, kernel), signal.correlate2d(mat, kernel, \"valid\"))\n",
    "    for _ in range(5):\n",
    "        mat = np.random.rand(7, 7)\n",
    "        kernel = np.random.rand(3, 5)\n",
    "        assert np.allclose(correlation_2d(mat, kernel), signal.correlate2d(mat, kernel, \"valid\"))\n",
    "    for _ in range(5):\n",
    "        mat = np.random.rand(7, 7)\n",
    "        kernel = np.random.rand(7, 3)\n",
    "        assert np.allclose(correlation_2d(mat, kernel), signal.correlate2d(mat, kernel, \"valid\"))\n",
    "\n",
    "\n",
    "def convolution_2d_test():\n",
    "    for _ in range(5):\n",
    "        mat = np.random.rand(7, 7)\n",
    "        kernel = np.random.rand(3, 3)\n",
    "        assert np.allclose(convolution_2d(mat, kernel), signal.convolve2d(mat, kernel, \"valid\"))\n",
    "    for _ in range(5):\n",
    "        mat = np.random.rand(7, 7)\n",
    "        kernel = np.random.rand(3, 5)\n",
    "        assert np.allclose(convolution_2d(mat, kernel), signal.convolve2d(mat, kernel, \"valid\"))\n",
    "    for _ in range(5):\n",
    "        mat = np.random.rand(7, 7)\n",
    "        kernel = np.random.rand(7, 3)\n",
    "        assert np.allclose(convolution_2d(mat, kernel), signal.convolve2d(mat, kernel, \"valid\"))\n",
    "\n",
    "\n",
    "correlation_2d_test()\n",
    "convolution_2d_test()"
   ]
  },
  {
   "attachments": {},
   "cell_type": "markdown",
   "metadata": {},
   "source": [
    "### Motion blur"
   ]
  },
  {
   "cell_type": "code",
   "execution_count": null,
   "metadata": {},
   "outputs": [],
   "source": [
    "# Load the image data and normalize to range [0, 1]\n",
    "img = cv2.cvtColor(cv2.imread(\"Lenna.png\"), cv2.COLOR_BGR2GRAY)\n",
    "img = img / 255\n",
    "plt.imshow(img, cmap=\"gray\")"
   ]
  },
  {
   "cell_type": "code",
   "execution_count": null,
   "metadata": {},
   "outputs": [],
   "source": [
    "# The Motion blur filter (one horizontal and one vertical)\n",
    "kernel_len = 25\n",
    "horizontal_kernel = np.array([[1.] * kernel_len])\n",
    "vertical_kernel = horizontal_kernel.T"
   ]
  },
  {
   "cell_type": "code",
   "execution_count": null,
   "metadata": {},
   "outputs": [],
   "source": [
    "plt.figure(figsize=(12, 8))\n",
    "plt.subplot(1, 2, 1)\n",
    "plt.imshow(correlation_2d(img, horizontal_kernel), cmap=\"gray\")\n",
    "plt.title(\"Horizontal motion blur\")\n",
    "plt.subplot(1, 2, 2)\n",
    "plt.imshow(correlation_2d(img, vertical_kernel), cmap=\"gray\")\n",
    "plt.title(\"Vertical motion blur\")"
   ]
  },
  {
   "cell_type": "markdown",
   "metadata": {},
   "source": [
    "### Non-linear filtering"
   ]
  },
  {
   "cell_type": "code",
   "execution_count": null,
   "metadata": {},
   "outputs": [],
   "source": [
    "def median_filter_2d(mat, kernel_size=3):\n",
    "    assert kernel_size & 1\n",
    "    # TODO: Implement the 2D median filter as specified in the lecture slides. Then run the test block below."
   ]
  },
  {
   "cell_type": "code",
   "execution_count": null,
   "metadata": {},
   "outputs": [],
   "source": [
    "def median_filter_2d_test():\n",
    "    mat = np.array([\n",
    "        [3, 2, 1, 2, 4],\n",
    "        [2, 1, 3, 200, 3],\n",
    "        [6, 7, 8, 7, 9],\n",
    "        [8, 100, 6, 6, 7],\n",
    "        [7, 9, 6, 8, 8],\n",
    "    ])\n",
    "    kernel_size = 3\n",
    "    exp_ans = np.array([\n",
    "        [3, 3, 4],\n",
    "        [6, 7, 7],\n",
    "        [7, 7, 7],\n",
    "    ])\n",
    "    assert np.allclose(median_filter_2d(mat, kernel_size), exp_ans)\n",
    "\n",
    "\n",
    "median_filter_2d_test()"
   ]
  }
 ],
 "metadata": {
  "kernelspec": {
   "display_name": "vdu",
   "language": "python",
   "name": "python3"
  },
  "language_info": {
   "codemirror_mode": {
    "name": "ipython",
    "version": 3
   },
   "file_extension": ".py",
   "mimetype": "text/x-python",
   "name": "python",
   "nbconvert_exporter": "python",
   "pygments_lexer": "ipython3",
   "version": "3.10.8"
  },
  "orig_nbformat": 4,
  "vscode": {
   "interpreter": {
    "hash": "d1521d0199cc4bdad11ed9d16c4211db8242811a511128819392787624d1ffb4"
   }
  }
 },
 "nbformat": 4,
 "nbformat_minor": 2
}
