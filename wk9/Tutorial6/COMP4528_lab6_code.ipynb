{
 "cells": [
  {
   "attachments": {},
   "cell_type": "markdown",
   "metadata": {},
   "source": [
    "<h2> COMP4528 Lab6 </h2>\n",
    "\n",
    "<p><b>(Acknowledgement: Lab material courtesy of Professor. Du Huynh of UWA).</b></p>\n",
    "\n",
    "<p>In this lab, we will be working on the camera calibration task.</p>\n",
    "\n",
    "<p>Four images, stereo2012a.jpg, stereo2012b.jpg, stereo2012c.jpg, and stereo2012d.jpg, are given for this lab. These images are different views of a calibration target and some objects. For example, the diagram below is stereo2012a.jpg with some text superimposed onto it:</p>\n",
    "\n",
    "<p align=\"center\">\n",
    "  <img src=\"notebook_assets/1.png\">\n",
    "</p>\n",
    "\n",
    "<p><b>On the calibration target there are 3 mutually orthogonal faces. The points marked on each face form a regular grid. They are all 7cm apart.</b></p>\n",
    "\n",
    "<p>From the 4 supplied images (stereo2012a.jpg, stereo2012b.jpg, stereo2012c.jpg, and stereo2012d.jpg), <font color=\"red\">choose any image to work on</font>. Use the suggested right-hand coordinate system shown in the diagram above and choose a sufficient number of calibration points on the calibration target.</p>\n",
    "\n",
    "<p>Store the XYZ coordinates in a file so that you can load the data into Python and use them again and again. Note that each image can be calibrated independently, so you can choose different calibration points to calibrate each image. Neither do the numbers of calibration points need to be the same for your chosen images. <font color=\"red\">Read through the choose_points.py script in the lab materials, understand the code, run the script to generate the XYZ and uv coordinates and store them in the data folder.</font></p>\n",
    "\n",
    "<p>After the above operation, the variable uv should be a 12 × 2 matrix, each row of which should contain the coordinates of one image point.</p>\n",
    "\n",
    "<p><font color=\"red\"> Note: You need to ensure that, for each image, the numbers of 3D and 2D calibration points are the same. For example, if your uv variable is a 12 × 2 matrix, then your XYZ variable should be a 12 × 3 matrix. Also, the points should appear in the same order in these two matrices. </font></p>\n",
    "\n",
    "<p>Use the DLT algorithm to solve the unknown camera calibration matrix of size 3x4. (Refer to lecture slides and textbook: Multiple View Geometry in Computer Vision Section 7 (page 178)).</p>\n"
   ]
  },
  {
   "attachments": {},
   "cell_type": "markdown",
   "metadata": {},
   "source": [
    "<h3> Hints: </h3>\n",
    "\n",
    "<ol>\n",
    "  <li>In writing your code you may need to \"reshape\" a 2D vector into a 1D vector. You can use the function np.reshape to reshape a matrix to arbitrary dimensions.</li>\n",
    "  <li>You can save your calibration matrices using NumPy save command. Read the following links for more details.\n",
    "  <ul>\n",
    "    <li><a href=\"url\">https://numpy.org/doc/stable/reference/generated/numpy.save.html</a></li>\n",
    "    <li><a href=\"url\">https://numpy.org/doc/stable/reference/generated/numpy.load.html</a></li>\n",
    "  </ul>\n",
    "  </li>\n",
    "</ol>"
   ]
  },
  {
   "attachments": {},
   "cell_type": "markdown",
   "metadata": {},
   "source": [
    "### Import libraries"
   ]
  },
  {
   "cell_type": "code",
   "execution_count": null,
   "metadata": {},
   "outputs": [],
   "source": [
    "import numpy as np\n",
    "import matplotlib.pyplot as plt\n"
   ]
  },
  {
   "attachments": {},
   "cell_type": "markdown",
   "metadata": {},
   "source": [
    "### Utility functions (you don't have to understand implementation details)"
   ]
  },
  {
   "cell_type": "code",
   "execution_count": null,
   "metadata": {},
   "outputs": [],
   "source": [
    "'''\n",
    "VGG_KR_FROM_P Extract K, R from camera matrix.\n",
    "\n",
    "[K,R,t] = VGG_KR_FROM_P(P [,noscale]) finds K, R, t such that P = K*R*[eye(3) -t].\n",
    "It is det(R)==1.\n",
    "K is scaled so that K(3,3)==1 and K(1,1)>0. Optional parameter noscale prevents this.\n",
    "\n",
    "Works also generally for any P of size N-by-(N+1).\n",
    "Works also for P of size N-by-N, then t is not computed.\n",
    "\n",
    "Original Author: Andrew Fitzgibbon <awf@robots.ox.ac.uk> and awf\n",
    "Date: 15 May 98\n",
    "\n",
    "Modified by Shu.\n",
    "Date: 8 May 20\n",
    "'''\n",
    "\n",
    "\n",
    "def vgg_rq(S):\n",
    "    S = S.T\n",
    "    [Q, U] = np.linalg.qr(S[::-1, ::-1], mode='complete')\n",
    "\n",
    "    Q = Q.T\n",
    "    Q = Q[::-1, ::-1]\n",
    "    U = U.T\n",
    "    U = U[::-1, ::-1]\n",
    "    if np.linalg.det(Q) < 0:\n",
    "        U[:, 0] = -U[:, 0]\n",
    "        Q[0, :] = -Q[0, :]\n",
    "    return U, Q\n",
    "\n",
    "\n",
    "def vgg_KR_from_P(P, noscale=True):\n",
    "    N = P.shape[0]\n",
    "    H = P[:, 0:N]\n",
    "    print(N, '|', H)\n",
    "    [K, R] = vgg_rq(H)\n",
    "    if noscale:\n",
    "        K = K / K[N-1, N-1]\n",
    "        if K[0, 0] < 0:\n",
    "            D = np.diag([-1, -1, np.ones([1, N-2])])\n",
    "            K = K @ D\n",
    "            R = D @ R\n",
    "\n",
    "            test = K*R\n",
    "            assert (test/test[0, 0] - H/H[0, 0]).all() <= 1e-07\n",
    "\n",
    "    t = np.linalg.inv(-P[:, 0:N]) @ P[:, -1]\n",
    "    return K, R, t\n"
   ]
  },
  {
   "attachments": {},
   "cell_type": "markdown",
   "metadata": {},
   "source": [
    "### Load the data from saved npy files"
   ]
  },
  {
   "cell_type": "code",
   "execution_count": null,
   "metadata": {},
   "outputs": [],
   "source": [
    "# TODO: Read the image and load saved coordinates npy files\n",
    "xyz = None\n",
    "uv = None\n",
    "img = None\n"
   ]
  },
  {
   "attachments": {},
   "cell_type": "markdown",
   "metadata": {},
   "source": [
    "### XYZ normalisation matrix\n",
    "\n",
    "The normalisation matrix for XYZ coordinates $\\mathbf{S}_{\\text{norm}}$ is defined as $$\\mathbf{S}_{\\text{norm}} = \\begin{bmatrix}\\mathbf{V}\\text{diag}(\\lambda_1^{-1}, \\lambda_2^{-1}, \\lambda_3^{-1}) \\mathbf{V}^{-1} & -\\mathbf{V}\\text{diag}(\\lambda_1^{-1}, \\lambda_2^{-1}, \\lambda_3^{-1}) \\mathbf{V}^{-1}\\mu_\\mathbf{x}\\\\ 0 & 1 \\end{bmatrix}$$\n",
    "\n",
    "where $$\\mathbf{V}\\text{diag}(\\lambda_1, \\lambda_2, \\lambda_3) \\mathbf{V}^{-1} = \\text{eig}(\\sum_i(\\mathbf{X}_{i,\\text{nonhom}} - \\mu_\\mathbf{x})^\\top(\\mathbf{X}_{i,\\text{nonhom}} - \\mu_\\mathbf{x}))$$\n",
    "$$\\mathbf{X}_{\\text{nonhom}} = \\begin{bmatrix}x_1 & y_1 & z_1\\\\ x_2 & y_2 & z_2\\\\ \\vdots & \\vdots & \\vdots\\\\ x_N & y_N & z_N\\\\  \\end{bmatrix}$$\n",
    "$$\\mu_\\mathbf{x} = \\begin{bmatrix}\\frac{1}{N}\\sum_ix_i & \\frac{1}{N}\\sum_iy_i & \\frac{1}{N}\\sum_iz_i\\end{bmatrix}$$"
   ]
  },
  {
   "cell_type": "code",
   "execution_count": null,
   "metadata": {},
   "outputs": [],
   "source": [
    "# Generate the normalisation matrix S for XYZ coordinate\n",
    "def xyz_normalisation_mat(xyz):\n",
    "    # TODO: Complete the function using the formulae provided above\n",
    "    pass\n"
   ]
  },
  {
   "attachments": {},
   "cell_type": "markdown",
   "metadata": {},
   "source": [
    "### uv normalisation matrix\n",
    "\n",
    "The normalisation matrix for uv coordinates $\\mathbf{T}_{\\text{norm}}$ is defined as $$\\mathbf{T}_{\\text{norm}} = \\begin{bmatrix}w + h & 0 & \\frac{w}{2}\\\\[1ex]  0 & w + h & \\frac{h}{2}\\\\[1ex] 0 & 0 & 1\\\\\\end{bmatrix}^{-1}$$"
   ]
  },
  {
   "cell_type": "code",
   "execution_count": null,
   "metadata": {},
   "outputs": [],
   "source": [
    "def uv_normalisation_mat(h, w):\n",
    "    # TODO: Complete the function using the formulae provided above\n",
    "    pass\n"
   ]
  },
  {
   "attachments": {},
   "cell_type": "markdown",
   "metadata": {},
   "source": [
    "### Calibrate\n",
    "\n",
    "Function to perform camera calibration\n",
    "\n",
    "**Usage:**   \n",
    "\n",
    "```calibrate(img, xyz, uv)```\n",
    "\n",
    "```return p_mat```\n",
    "\n",
    "**Where:**  \n",
    " - img: the image of the calibration target.\n",
    " - xyz: a N x 3 array of  XYZ coordinates of the calibration target points. \n",
    " - uv: a N x 2 array of the image coordinates of the calibration target points.\n",
    " - p_mat: the 3 x 4 camera calibration matrix.\n",
    "\n",
    "\n",
    "The variable N should be an integer greater than or equal to 6.\n",
    "\n",
    "**The root mean squared error (RMSE) between the positions of the uv coordinates and the projected XYZ coordinates should be reported.**\n"
   ]
  },
  {
   "cell_type": "code",
   "execution_count": null,
   "metadata": {},
   "outputs": [],
   "source": [
    "def calibrate(img, xyz, uv):\n",
    "    # pre-condition checking\n",
    "    assert xyz.shape[0] >= 6 and xyz.shape[1] == 3\n",
    "    assert uv.shape[0] >= 6 and uv.shape[1] == 2\n",
    "    assert xyz.shape[0] == uv.shape[0]\n",
    "\n",
    "    # TODO: Complete the function using the normalised DLT algorithm and print out the RMSE for reprojection\n",
    "    p_mat = None\n",
    "    return p_mat\n"
   ]
  },
  {
   "attachments": {},
   "cell_type": "markdown",
   "metadata": {},
   "source": [
    "### Calibrate the camera and decompose the calibration matrix with util functions\n",
    "\n",
    "1. Obtain the camera calibration matrix with the `calibrate` function defined above\n",
    "2. Decompose the $\\mathbf{P}$ matrix into $\\mathbf{K}$, $\\mathbf{R}$, $\\mathbf{t}$ using the util function defined above, such that $\\mathbf{P} = \\mathbf{K}[\\mathbf{R}|\\mathbf{t}]$."
   ]
  },
  {
   "cell_type": "code",
   "execution_count": null,
   "metadata": {},
   "outputs": [],
   "source": [
    "p_mat = calibrate(img, xyz, uv)\n",
    "k_mat, r_mat, t = None, None, None\n",
    "\n",
    "print(f\"P: \\n {p_mat}\")\n",
    "print(f\"K: \\n {k_mat}\")\n",
    "print(f\"R: \\n {r_mat}\")\n",
    "print(f\"t: \\n {t}\")\n"
   ]
  },
  {
   "attachments": {},
   "cell_type": "markdown",
   "metadata": {},
   "source": [
    "### Discussion questions\n",
    "Use the results from above to answer the following questions\n",
    "1. What is the focal length (in the unit of a pixel) of the camera?\n",
    "2. What is the camera centre coordinate in the XYZ coordinate system (world coordinate system)?"
   ]
  },
  {
   "attachments": {},
   "cell_type": "markdown",
   "metadata": {},
   "source": [
    "<b><font color=\"blue\">Write your answers below:</font></b>\n",
    "1. <font color=\"blue\">Your solution to question 1</font></b>\n",
    "2. <font color=\"blue\">Your solution to question 2</font></b>"
   ]
  }
 ],
 "metadata": {
  "kernelspec": {
   "display_name": "cv",
   "language": "python",
   "name": "python3"
  },
  "language_info": {
   "codemirror_mode": {
    "name": "ipython",
    "version": 3
   },
   "file_extension": ".py",
   "mimetype": "text/x-python",
   "name": "python",
   "nbconvert_exporter": "python",
   "pygments_lexer": "ipython3",
   "version": "3.9.16"
  },
  "orig_nbformat": 4
 },
 "nbformat": 4,
 "nbformat_minor": 2
}
