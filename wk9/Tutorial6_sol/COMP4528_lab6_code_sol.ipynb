{
 "cells": [
  {
   "attachments": {},
   "cell_type": "markdown",
   "metadata": {},
   "source": [
    "<h2> COMP4528 Lab6 </h2>\n",
    "\n",
    "<p><b>(Acknowledgement: Lab material courtesy of Professor. Du Huynh of UWA).</b></p>\n",
    "\n",
    "<p>In this lab, we will be working on the camera calibration task.</p>\n",
    "\n",
    "<p>Four images, stereo2012a.jpg, stereo2012b.jpg, stereo2012c.jpg, and stereo2012d.jpg, are given for this lab. These images are different views of a calibration target and some objects. For example, the diagram below is stereo2012a.jpg with some text superimposed onto it:</p>\n",
    "\n",
    "<p align=\"center\">\n",
    "  <img src=\"notebook_assets/1.png\">\n",
    "</p>\n",
    "\n",
    "<p><b>On the calibration target there are 3 mutually orthogonal faces. The points marked on each face form a regular grid. They are all 7cm apart.</b></p>\n",
    "\n",
    "<p>From the 4 supplied images (stereo2012a.jpg, stereo2012b.jpg, stereo2012c.jpg, and stereo2012d.jpg), <font color=\"red\">choose any image to work on</font>. Use the suggested right-hand coordinate system shown in the diagram above and choose a sufficient number of calibration points on the calibration target.</p>\n",
    "\n",
    "<p>Store the XYZ coordinates in a file so that you can load the data into Python and use them again and again. Note that each image can be calibrated independently, so you can choose different calibration points to calibrate each image. Neither do the numbers of calibration points need to be the same for your chosen images. <font color=\"red\">Read through the choose_points.py script in the lab materials, understand the code, run the script to generate the XYZ and uv coordinates and store them in the data folder.</font></p>\n",
    "\n",
    "<p>After the above operation, the variable uv should be a 12 × 2 matrix, each row of which should contain the coordinates of one image point.</p>\n",
    "\n",
    "<p><font color=\"red\"> Note: You need to ensure that, for each image, the numbers of 3D and 2D calibration points are the same. For example, if your uv variable is a 12 × 2 matrix, then your XYZ variable should be a 12 × 3 matrix. Also, the points should appear in the same order in these two matrices. </font></p>\n",
    "\n",
    "<p>Use the DLT algorithm to solve the unknown camera calibration matrix of size 3x4. (Refer to lecture slides and textbook: Multiple View Geometry in Computer Vision Section 7 (page 178)).</p>\n"
   ]
  },
  {
   "attachments": {},
   "cell_type": "markdown",
   "metadata": {},
   "source": [
    "<h3> Hints: </h3>\n",
    "\n",
    "<ol>\n",
    "  <li>In writing your code you may need to \"reshape\" a 2D vector into a 1D vector. You can use the function np.reshape to reshape a matrix to arbitrary dimensions.</li>\n",
    "  <li>You can save your calibration matrices using NumPy save command. Read the following links for more details.\n",
    "  <ul>\n",
    "    <li><a href=\"url\">https://numpy.org/doc/stable/reference/generated/numpy.save.html</a></li>\n",
    "    <li><a href=\"url\">https://numpy.org/doc/stable/reference/generated/numpy.load.html</a></li>\n",
    "  </ul>\n",
    "  </li>\n",
    "</ol>"
   ]
  },
  {
   "attachments": {},
   "cell_type": "markdown",
   "metadata": {},
   "source": [
    "### Import libraries"
   ]
  },
  {
   "cell_type": "code",
   "execution_count": 1,
   "metadata": {},
   "outputs": [],
   "source": [
    "import numpy as np\n",
    "import matplotlib.pyplot as plt\n"
   ]
  },
  {
   "attachments": {},
   "cell_type": "markdown",
   "metadata": {},
   "source": [
    "### Utility functions (you don't have to understand implementation details)"
   ]
  },
  {
   "cell_type": "code",
   "execution_count": 2,
   "metadata": {},
   "outputs": [],
   "source": [
    "'''\n",
    "VGG_KR_FROM_P Extract K, R from camera matrix.\n",
    "\n",
    "[K,R,C] = VGG_KR_FROM_P(P [,noscale]) finds K, R, C such that P = K*R*[eye(3) -C].\n",
    "It is det(R)==1.\n",
    "K is scaled so that K(3,3)==1 and K(1,1)>0. Optional parameter noscale prevents this.\n",
    "\n",
    "Works also generally for any P of size N-by-(N+1).\n",
    "Works also for P of size N-by-N, then C is not computed.\n",
    "\n",
    "Original Author: Andrew Fitzgibbon <awf@robots.ox.ac.uk> and awf\n",
    "Date: 15 May 98\n",
    "\n",
    "Modified by Shu.\n",
    "Date: 8 May 20\n",
    "'''\n",
    "\n",
    "\n",
    "def vgg_rq(S):\n",
    "    S = S.T\n",
    "    [Q, U] = np.linalg.qr(S[::-1, ::-1], mode='complete')\n",
    "\n",
    "    Q = Q.T\n",
    "    Q = Q[::-1, ::-1]\n",
    "    U = U.T\n",
    "    U = U[::-1, ::-1]\n",
    "    if np.linalg.det(Q) < 0:\n",
    "        U[:, 0] = -U[:, 0]\n",
    "        Q[0, :] = -Q[0, :]\n",
    "    return U, Q\n",
    "\n",
    "\n",
    "def vgg_KR_from_P(P, noscale=True):\n",
    "    N = P.shape[0]\n",
    "    H = P[:, 0:N]\n",
    "    print(N, '|', H)\n",
    "    [K, R] = vgg_rq(H)\n",
    "    if noscale:\n",
    "        K = K / K[N-1, N-1]\n",
    "        if K[0, 0] < 0:\n",
    "            D = np.diag([-1, -1, np.ones([1, N-2])])\n",
    "            K = K @ D\n",
    "            R = D @ R\n",
    "\n",
    "            test = K*R\n",
    "            assert (test/test[0, 0] - H/H[0, 0]).all() <= 1e-07\n",
    "\n",
    "    C = np.linalg.inv(-P[:, 0:N]) @ P[:, -1]\n",
    "    return K, R, C\n"
   ]
  },
  {
   "attachments": {},
   "cell_type": "markdown",
   "metadata": {},
   "source": [
    "### Load the data from saved npy files"
   ]
  },
  {
   "cell_type": "code",
   "execution_count": 3,
   "metadata": {},
   "outputs": [],
   "source": [
    "xyz = np.load(\"data/stereo2012a_xyz.npy\")\n",
    "uv = np.load(\"data/stereo2012a_uv.npy\")\n",
    "img = plt.imread(\"images/stereo2012a.jpg\")\n"
   ]
  },
  {
   "attachments": {},
   "cell_type": "markdown",
   "metadata": {},
   "source": [
    "### XYZ normalisation matrix\n",
    "\n",
    "The normalisation matrix for XYZ coordinates $\\mathbf{S}_{\\text{norm}}$ is defined as $$\\mathbf{S}_{\\text{norm}} = \\begin{bmatrix}\\mathbf{V}\\text{diag}(\\lambda_1^{-1}, \\lambda_2^{-1}, \\lambda_3^{-1}) \\mathbf{V}^{-1} & -\\mathbf{V}\\text{diag}(\\lambda_1^{-1}, \\lambda_2^{-1}, \\lambda_3^{-1}) \\mathbf{V}^{-1}\\mu_\\mathbf{x}\\\\ 0 & 1 \\end{bmatrix}$$\n",
    "\n",
    "where $$\\mathbf{V}\\text{diag}(\\lambda_1, \\lambda_2, \\lambda_3) \\mathbf{V}^{-1} = \\text{eig}(\\sum_i(\\mathbf{X}_{i,\\text{nonhom}} - \\mu_\\mathbf{x})^\\top(\\mathbf{X}_{i,\\text{nonhom}} - \\mu_\\mathbf{x}))$$\n",
    "$$\\mathbf{X}_{\\text{nonhom}} = \\begin{bmatrix}x_1 & y_1 & z_1\\\\ x_2 & y_2 & z_2\\\\ \\vdots & \\vdots & \\vdots\\\\ x_N & y_N & z_N\\\\  \\end{bmatrix}$$\n",
    "$$\\mu_\\mathbf{x} = \\begin{bmatrix}\\frac{1}{N}\\sum_ix_i & \\frac{1}{N}\\sum_iy_i & \\frac{1}{N}\\sum_iz_i\\end{bmatrix}$$"
   ]
  },
  {
   "cell_type": "code",
   "execution_count": 4,
   "metadata": {},
   "outputs": [],
   "source": [
    "# Generate the normalisation matrix S for XYZ coordinate\n",
    "def xyz_normalisation_mat(xyz):\n",
    "    # calculate the mean across all rows\n",
    "    mu_x = xyz.mean(axis=0)\n",
    "\n",
    "    # matrix storing the sum of covariance\n",
    "    diff = xyz - mu_x\n",
    "    cov_mat = diff.T @ diff\n",
    "\n",
    "    # eigen-decomposition the covariance matrix\n",
    "    w, v = np.linalg.eig(cov_mat)\n",
    "\n",
    "    # S for storing the normalisation matrix\n",
    "    s = np.zeros((4, 4))\n",
    "\n",
    "    # diagnol matrix should be the reciprocal of eigenvalues\n",
    "    diagnol_mat = np.diag(np.reciprocal(w))\n",
    "\n",
    "    # constructing S matrix\n",
    "    v_inv = np.linalg.inv(v)\n",
    "    s[0:3, 0:3] = v @ diagnol_mat @ v_inv\n",
    "    s[0:3, 3:4] = -v @ diagnol_mat @ v_inv @ mu_x.reshape((-1, 1))\n",
    "    s[3, 3] = 1\n",
    "    return s\n"
   ]
  },
  {
   "attachments": {},
   "cell_type": "markdown",
   "metadata": {},
   "source": [
    "### uv normalisation matrix\n",
    "\n",
    "The normalisation matrix for uv coordinates $\\mathbf{T}_{\\text{norm}}$ is defined as $$\\mathbf{T}_{\\text{norm}} = \\begin{bmatrix}w + h & 0 & \\frac{w}{2}\\\\[1ex]  0 & w + h & \\frac{h}{2}\\\\[1ex] 0 & 0 & 1\\\\\\end{bmatrix}^{-1}$$"
   ]
  },
  {
   "cell_type": "code",
   "execution_count": 5,
   "metadata": {},
   "outputs": [],
   "source": [
    "def uv_normalisation_mat(h, w):\n",
    "    return np.linalg.inv(\n",
    "        np.array([\n",
    "            [w + h, 0, w / 2],\n",
    "            [0, w + h, h / 2],\n",
    "            [0, 0, 1]\n",
    "        ])\n",
    "    )\n"
   ]
  },
  {
   "attachments": {},
   "cell_type": "markdown",
   "metadata": {},
   "source": [
    "### Calibrate\n",
    "\n",
    "Function to perform camera calibration\n",
    "\n",
    "**Usage:**   \n",
    "\n",
    "```calibrate(img, xyz, uv)```\n",
    "\n",
    "```return p_mat```\n",
    "\n",
    "**Where:**  \n",
    " - img: the image of the calibration target.\n",
    " - xyz: a N x 3 array of  XYZ coordinates of the calibration target points. \n",
    " - uv: a N x 2 array of the image coordinates of the calibration target points.\n",
    " - p_mat: the 3 x 4 camera calibration matrix.\n",
    "\n",
    "\n",
    "The variable N should be an integer greater than or equal to 6.\n",
    "\n",
    "**The root mean squared error (RMSE) between the positions of the uv coordinates and the projected XYZ coordinates should be reported.**\n"
   ]
  },
  {
   "cell_type": "code",
   "execution_count": 6,
   "metadata": {},
   "outputs": [],
   "source": [
    "def calibrate(img, xyz, uv):\n",
    "    # pre-condition checking\n",
    "    assert xyz.shape[0] >= 6 and xyz.shape[1] == 3\n",
    "    assert uv.shape[0] >= 6 and uv.shape[1] == 2\n",
    "    assert xyz.shape[0] == uv.shape[0]\n",
    "\n",
    "    h, w, _ = img.shape\n",
    "\n",
    "    # coordinate normalisation matrix\n",
    "    t_mat = uv_normalisation_mat(h, w)\n",
    "    s_mat = xyz_normalisation_mat(xyz)\n",
    "\n",
    "    # transform uv to homogeneous and normalise\n",
    "    uv_normalised = np.hstack((uv, np.ones((uv.shape[0], 1))))\n",
    "    uv_normalised = (t_mat @ uv_normalised.T).T\n",
    "\n",
    "    # transform XYZ to homogeneous and normalise\n",
    "    xyz_normalised = np.hstack((xyz, np.ones((xyz.shape[0], 1))))\n",
    "    xyz_normalised = (s_mat @ xyz_normalised.T).T\n",
    "\n",
    "    # A matrix with size (N * 2) x 12\n",
    "    a_mat = np.zeros((xyz_normalised.shape[0] * 2, 12))\n",
    "\n",
    "    # iterate through corresponding points\n",
    "    for i, x_i in enumerate(xyz_normalised):\n",
    "        # each set of corresponding points can generate two equations\n",
    "        basic_block = np.array([x_i[0], x_i[1], x_i[2], 1])\n",
    "        block1 = basic_block * uv_normalised[i][2]\n",
    "        block2 = basic_block * uv_normalised[i][1]\n",
    "        block3 = -basic_block * uv_normalised[i][0]\n",
    "        zero_block = np.zeros(4)\n",
    "        part = np.vstack((\n",
    "            np.hstack((zero_block, -block1, block2)),\n",
    "            np.hstack((block1, zero_block, block3)),\n",
    "        ))\n",
    "        a_mat[2 * i: 2 * (i + 1)] = part\n",
    "\n",
    "    # SVD to matrix A. p should be the last column of matrix V\n",
    "    v = np.linalg.svd(a_mat)[2]\n",
    "    p = v[-1, :]\n",
    "    # normalize vector p and rearrange it into matrix P\n",
    "    p_normalized = p / np.linalg.norm(p)\n",
    "    p_mat = np.reshape(p_normalized, (3, 4))\n",
    "\n",
    "    # denormalize to get the calibration matrix\n",
    "    p_mat = np.linalg.inv(t_mat) @ p_mat @ s_mat\n",
    "\n",
    "    # calculate the projection of world coordinates\n",
    "    projection_homo = (\n",
    "        p_mat @ (np.hstack((xyz, np.ones((xyz.shape[0], 1))))).T).T\n",
    "\n",
    "    # transform from homogeneous coordinate to normal coordinate\n",
    "    projection = projection_homo[:, :2] / projection_homo[:, 2:3]\n",
    "\n",
    "    # RMSE calculation\n",
    "    rmse = np.sqrt(((projection - uv) ** 2).mean())\n",
    "    print(\n",
    "        f\"The RMSE for projection of XYZ coordinate to uv coordinate is {rmse} (in pixel unit)\")\n",
    "\n",
    "    return p_mat\n"
   ]
  },
  {
   "attachments": {},
   "cell_type": "markdown",
   "metadata": {},
   "source": [
    "### Calibrate the camera and decompose the calibration matrix with util functions\n",
    "\n",
    "1. Obtain the camera calibration matrix with the `calibrate` function defined above\n",
    "2. Decompose the $\\mathbf{P}$ matrix into $\\mathbf{K}$, $\\mathbf{R}$, $\\mathbf{C}$ using the util function defined above, such that $\\mathbf{P} = \\mathbf{K}[\\mathbf{R}|-\\mathbf{R}\\mathbf{C}]$."
   ]
  },
  {
   "cell_type": "code",
   "execution_count": null,
   "metadata": {},
   "outputs": [
    {
     "name": "stdout",
     "output_type": "stream",
     "text": [
      "The RMSE for projection of XYZ coordinate to uv coordinate is 0.14469181590276978 (in pixel unit)\n",
      "3 | [[ 1.96374876e+00 -8.80582449e-01 -2.90352580e+00]\n",
      " [-1.63198872e-02 -3.39254322e+00  6.29457748e-01]\n",
      " [-2.14123071e-03 -1.39798179e-03 -2.73017450e-03]]\n",
      "P: \n",
      " [[ 1.96374876e+00 -8.80582449e-01 -2.90352580e+00  1.53272188e+02]\n",
      " [-1.63198872e-02 -3.39254322e+00  6.29457748e-01  1.58427918e+02]\n",
      " [-2.14123071e-03 -1.39798179e-03 -2.73017450e-03  4.76828132e-01]]\n",
      "K: \n",
      " [[898.97608883   3.57547745 353.98446902]\n",
      " [  0.         896.12720343 218.61733953]\n",
      " [  0.           0.           1.        ]]\n",
      "R: \n",
      " [[ 0.80881572 -0.11103809 -0.57748391]\n",
      " [ 0.1347754  -0.92087177  0.3658289 ]\n",
      " [-0.57240957 -0.37371879 -0.72985036]]\n",
      "t: \n",
      " [74.57029328 62.0032357  84.41824339]\n"
     ]
    }
   ],
   "source": [
    "p_mat = calibrate(img, xyz, uv)\n",
    "k_mat, r_mat, C = vgg_KR_from_P(p_mat)\n",
    "\n",
    "print(f\"P: \\n {p_mat}\")\n",
    "print(f\"K: \\n {k_mat}\")\n",
    "print(f\"R: \\n {r_mat}\")\n",
    "print(f\"C: \\n {C}\")\n"
   ]
  },
  {
   "attachments": {},
   "cell_type": "markdown",
   "metadata": {},
   "source": [
    "### Discussion questions\n",
    "Use the results from above to answer the following questions\n",
    "1. What is the focal length (in the unit of a pixel) of the camera?\n",
    "2. What is the camera translation $\\mathbf{t}$? That is, \\mathbf{t} such that $\\mathbf{P} = \\mathbf{K}[\\mathbf{R}|\\mathbf{t}]$."
   ]
  },
  {
   "attachments": {},
   "cell_type": "markdown",
   "metadata": {},
   "source": [
    "<b><font color=\"red\">Sample answer:</font></b>\n",
    "1. $$\\mathbf{K} = \\begin{bmatrix}\n",
    "            \\alpha & \\gamma & u_0\\\\\n",
    "            0 & \\beta & v_0\\\\\n",
    "            0 & 0 & 1\\\\\n",
    "        \\end{bmatrix}$$\n",
    "    where\n",
    "    $$\\begin{align*}\n",
    "        \\alpha &= f_x = 898.98\\\\\n",
    "        \\beta &= \\frac{f_y}{\\sin{(\\theta)}}\\\\\n",
    "        \\gamma &= -f_x\\cot{(\\theta)}\n",
    "    \\end{align*}$$\n",
    "    Calculate the skew factor $\\theta$\n",
    "    $$\\theta = \\arctan{(\\frac{-f_x}{\\gamma})} = \\arctan{(\\frac{898.98}{3.5755})} = \\arctan{(251.42)} = 1.567 + k\\pi \\quad (k \\in \\mathcal{Z})$$\n",
    "    Since $\\theta \\in [0, \\pi]$, the possible value for skew could be $\\theta = 1.567$.\n",
    "\n",
    "    Then, we can calculate the focal length on the $y$-axis\n",
    "    $$f_y = \\beta\\sin{(\\theta)} = 896.13 \\times \\sin{(1.567)} = 896.12$$\n",
    "\n",
    "    So, we can conclude that the focal length for $x$-axis is $fx = 898.98$ pixel units and the focal length for $y$-axis is $f_y = 896.12$ pixel units.\n",
    "2. The camera centre coordinate is denoted by $\\mathbf{C}$\n",
    "   $$\\begin{align*}\n",
    "        \\mathbf{t} &= -\\mathbf{R}\\mathbf{C}\\\\\n",
    "        &= - \\begin{bmatrix}\n",
    "            0.8088 & -0.1110 & -0.5775\\\\\n",
    "            0.1348 &  -0.9209 & 0.3658\\\\\n",
    "            -0.5724 & -0.3737 & -0.7299\\\\\n",
    "        \\end{bmatrix}\n",
    "        \\begin{bmatrix}\n",
    "            74.5703\\\\\n",
    "            62.0032\\\\\n",
    "            84.4182\\\\\n",
    "        \\end{bmatrix}\\\\\n",
    "        &= \\begin{bmatrix}\n",
    "            -4.6786\\\\\n",
    "            16.1665\\\\\n",
    "            127.4715\\\\\n",
    "        \\end{bmatrix}\n",
    "    \\end{align*}$$\n",
    "    So, the camera translation is $(-4.6786, 16.1665, 127.4715)$."
   ]
  }
 ],
 "metadata": {
  "kernelspec": {
   "display_name": "cv",
   "language": "python",
   "name": "python3"
  },
  "language_info": {
   "codemirror_mode": {
    "name": "ipython",
    "version": 3
   },
   "file_extension": ".py",
   "mimetype": "text/x-python",
   "name": "python",
   "nbconvert_exporter": "python",
   "pygments_lexer": "ipython3",
   "version": "3.9.16"
  },
  "orig_nbformat": 4
 },
 "nbformat": 4,
 "nbformat_minor": 2
}
