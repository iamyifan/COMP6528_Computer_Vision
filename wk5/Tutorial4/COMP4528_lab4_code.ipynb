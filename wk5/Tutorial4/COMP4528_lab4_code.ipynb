{
 "cells": [
  {
   "attachments": {},
   "cell_type": "markdown",
   "metadata": {},
   "source": [
    "## COMP4528 Lab4\n",
    "\n",
    "In this lab, we'll delve into the implementation of deep neural networks for computer vision classification using PyTorch. It's essential to have a solid understanding of PyTorch programming for Assignment 2.\n",
    "\n",
    "In this lab, we will cover:\n",
    "- Implement PyTorch Dataset and DataLoader classes\n",
    "- Implement a simple fully-connected network\n",
    "- Implement a convolutional neural network\n",
    "- Implement the training and testing function for models"
   ]
  },
  {
   "cell_type": "code",
   "execution_count": null,
   "metadata": {},
   "outputs": [],
   "source": [
    "import random\n",
    "\n",
    "import matplotlib.pyplot as plt\n",
    "import numpy as np\n",
    "import torch\n",
    "import torch.nn as nn\n",
    "import torch.nn.functional as F\n",
    "from torch.utils.data import Dataset, DataLoader\n",
    "import torchvision.transforms as T"
   ]
  },
  {
   "cell_type": "code",
   "execution_count": null,
   "metadata": {},
   "outputs": [],
   "source": [
    "n_epoch = 20\n",
    "batch_size = 64\n",
    "lr = 1e-3\n",
    "betas = (0.9, 0.999)\n",
    "if torch.cuda.is_available():\n",
    "    device = \"cuda\"\n",
    "elif torch.backends.mps.is_available():\n",
    "    device = \"mps\"\n",
    "else:\n",
    "    device = \"cpu\"\n",
    "\n",
    "# make results determinstic\n",
    "seed = 42\n",
    "random.seed(seed)\n",
    "np.random.seed(seed)\n",
    "torch.manual_seed(seed)\n",
    "torch.cuda.manual_seed(seed)\n",
    "torch.backends.cudnn.deterministic = True\n",
    "torch.backends.cudnn.benchmark = False"
   ]
  },
  {
   "cell_type": "code",
   "execution_count": null,
   "metadata": {},
   "outputs": [],
   "source": [
    "class KMNIST(Dataset):\n",
    "    # TODO: Implement the KMNIST Dataset class according to the PyTorch tutorial\n",
    "    #       https://pytorch.org/tutorials/beginner/basics/data_tutorial.html#creating-a-custom-dataset-for-your-files\n",
    "    def __init__(self, img_path, label_path, transforms):\n",
    "        pass\n",
    "\n",
    "    def __len__(self):\n",
    "        pass\n",
    "\n",
    "    def __getitem__(self, index):\n",
    "        pass"
   ]
  },
  {
   "cell_type": "code",
   "execution_count": null,
   "metadata": {},
   "outputs": [],
   "source": [
    "# NOTE: transformation defined for this classification task, data augmentation techniques used during training.\n",
    "#       To understand each transformation, please read https://pytorch.org/vision/stable/transforms.html\n",
    "#       - (Normalize data to range between [-1, 1])\n",
    "#       - (Randomly flip the image left to right)\n",
    "#       - (Zero-pad 4 pixels on each side and randomly crop 28x28 as input)\n",
    "train_transforms = T.Compose([\n",
    "    T.ToTensor(),\n",
    "    T.Normalize((0.5,), (0.5,)),\n",
    "    T.RandomCrop(size=(28, 28), padding=4),\n",
    "])\n",
    "\n",
    "test_transforms = T.Compose([\n",
    "    T.ToTensor(),\n",
    "    T.Normalize((0.5,), (0.5,)),\n",
    "])"
   ]
  },
  {
   "cell_type": "code",
   "execution_count": null,
   "metadata": {},
   "outputs": [],
   "source": [
    "# TODO: Load training, validation and testing data use the Dataset and transformations defined above.\n",
    "#       Then, for each dataset, create the corresponding DataLoader class with batch_size provided\n",
    "#       https://pytorch.org/tutorials/beginner/basics/data_tutorial.html#preparing-your-data-for-training-with-dataloaders\n",
    "train_dataset = None\n",
    "val_dataset = None\n",
    "test_dataset = None\n",
    "train_loader = None\n",
    "val_loader = None\n",
    "test_loader = None"
   ]
  },
  {
   "cell_type": "code",
   "execution_count": null,
   "metadata": {},
   "outputs": [],
   "source": [
    "class FcClassifier(nn.Module):\n",
    "    # TODO: Implement a fully-connected neural network with an architecture listed below\n",
    "    #       - Fully-connected layer with 512 output units.\n",
    "    #       - ReLU Activation Layer.\n",
    "    #       - Fully-connected layer with 128 output units.\n",
    "    #       - ReLU Activation Layer.\n",
    "    #       - Fully-connected layer with 10 output units.\n",
    "    #       https://pytorch.org/tutorials/recipes/recipes/defining_a_neural_network.html\n",
    "    def __init__(self):\n",
    "        super(FcClassifier, self).__init__()\n",
    "        pass\n",
    "    \n",
    "    def forward(self, x):\n",
    "        # NOTE: Flatten has been done\n",
    "        x = x.view(x.size(0), -1)\n",
    "        pass"
   ]
  },
  {
   "cell_type": "code",
   "execution_count": null,
   "metadata": {},
   "outputs": [],
   "source": [
    "def train(model, train_loader, val_loader, device, optimizer, n_epoch):\n",
    "    # TODO: Implement training code, you should `print out` training and validation accuracy and loss during training\n",
    "    #       You should define the loss function (cross-entropy loss) within this function\n",
    "    #       Remember to load the best state_dict (highest validation accuracy) before exiting this function, so you are not overfitting.\n",
    "    #       https://pytorch.org/tutorials/beginner/blitz/cifar10_tutorial.html\n",
    "    model.train()\n",
    "    pass\n",
    "\n",
    "\n",
    "def test(model, test_loader, device):\n",
    "    # TODO: Implement testing code, you should `RETURN` the testing accuracy and loss on the given test_loader\n",
    "    #       You should define the loss function (cross-entropy loss) within this function\n",
    "    model.eval()\n",
    "    pass"
   ]
  },
  {
   "cell_type": "code",
   "execution_count": null,
   "metadata": {},
   "outputs": [],
   "source": [
    "model = FcClassifier().to(device)\n",
    "optimizer = torch.optim.Adam(model.parameters(), lr=lr, betas=betas)"
   ]
  },
  {
   "cell_type": "code",
   "execution_count": null,
   "metadata": {},
   "outputs": [],
   "source": [
    "train(model, train_loader, val_loader, device, optimizer, n_epoch)"
   ]
  },
  {
   "cell_type": "code",
   "execution_count": null,
   "metadata": {},
   "outputs": [],
   "source": [
    "test_acc, test_loss = test(model, test_loader, device)\n",
    "print(f\"Test loss: {test_loss}, Test accuracy: {test_acc}\")"
   ]
  },
  {
   "cell_type": "code",
   "execution_count": null,
   "metadata": {},
   "outputs": [],
   "source": [
    "class CNN(nn.Module):\n",
    "    # TODO: Implement the convolutional neural network with the following architecture\n",
    "    #       - 5×5 Convolutional Layer with 32 filters, stride 1 and padding 2.\n",
    "    #       - ReLU Activation Layer.\n",
    "    #       - 2×2 Max Pooling Layer with a stride of 2.\n",
    "    #       - 3×3 Convolutional Layer with 64 filters, stride 1 and padding 1.\n",
    "    #       - ReLU Activation Layer.\n",
    "    #       - 2×2 Max Pooling Layer with a stride of 2。\n",
    "    #       - Fully-connected layer with 1024 output units.\n",
    "    #       - ReLU Activation Layer.\n",
    "    #       - Fully-connected layer with 10 output units.\n",
    "    def __init__(self):\n",
    "        super(CNN, self).__init__()\n",
    "        pass\n",
    "\n",
    "    def forward(self, x):\n",
    "        pass"
   ]
  },
  {
   "cell_type": "code",
   "execution_count": null,
   "metadata": {},
   "outputs": [],
   "source": [
    "model = CNN().to(device)\n",
    "optimizer = torch.optim.Adam(model.parameters(), lr=lr, betas=betas)"
   ]
  },
  {
   "cell_type": "code",
   "execution_count": null,
   "metadata": {},
   "outputs": [],
   "source": [
    "train(model, train_loader, val_loader, device, optimizer, n_epoch)"
   ]
  },
  {
   "cell_type": "code",
   "execution_count": null,
   "metadata": {},
   "outputs": [],
   "source": [
    "test_acc, test_loss = test(model, test_loader, device)\n",
    "print(f\"Test loss: {test_loss}, Test accuracy: {test_acc}\")"
   ]
  },
  {
   "cell_type": "code",
   "execution_count": null,
   "metadata": {},
   "outputs": [],
   "source": [
    "# Visualization and predictions\n",
    "classes = ('お', 'き', 'す', 'つ', 'な', 'は', 'ま', 'や', 'れ', 'を')\n",
    "img, label = test_dataset[6]\n",
    "plt.imshow(img.squeeze(0), cmap=\"gray\")\n",
    "plt.show()\n",
    "img = img.to(device)\n",
    "pred = int(torch.argmax(model(img.unsqueeze(0)), dim=1)[0])\n",
    "print(f\"Model prediction: {classes[label]}\\nGround truth: {classes[label]}\")"
   ]
  },
  {
   "attachments": {},
   "cell_type": "markdown",
   "metadata": {},
   "source": [
    "### Try a deeper CNN model for a higher classification accuracy\n",
    "**NOTE: This part would require GPU computing power. You may skip this part during the lab.**"
   ]
  },
  {
   "cell_type": "code",
   "execution_count": null,
   "metadata": {},
   "outputs": [],
   "source": [
    "class DeepCNN(nn.Module):\n",
    "    # TODO: Implement the convolutional neural network with more layers than the previous one.\n",
    "    #       Test the model accuracy and see whether there is a performance gain.\n",
    "    def __init__(self):\n",
    "        super(DeepCNN, self).__init__()\n",
    "        pass\n",
    "\n",
    "    def forward(self, x):\n",
    "        pass"
   ]
  },
  {
   "cell_type": "code",
   "execution_count": null,
   "metadata": {},
   "outputs": [],
   "source": [
    "model = DeepCNN().to(device)\n",
    "optimizer = torch.optim.Adam(model.parameters(), lr=lr, betas=betas)"
   ]
  },
  {
   "cell_type": "code",
   "execution_count": null,
   "metadata": {},
   "outputs": [],
   "source": [
    "train(model, train_loader, val_loader, device, optimizer, n_epoch)"
   ]
  },
  {
   "cell_type": "code",
   "execution_count": null,
   "metadata": {},
   "outputs": [],
   "source": [
    "test_acc, test_loss = test(model, test_loader, device)\n",
    "print(f\"Test loss: {test_loss}, Test accuracy: {test_acc}\")"
   ]
  }
 ],
 "metadata": {
  "kernelspec": {
   "display_name": "cv",
   "language": "python",
   "name": "python3"
  },
  "language_info": {
   "codemirror_mode": {
    "name": "ipython",
    "version": 3
   },
   "file_extension": ".py",
   "mimetype": "text/x-python",
   "name": "python",
   "nbconvert_exporter": "python",
   "pygments_lexer": "ipython3",
   "version": "3.10.9"
  },
  "vscode": {
   "interpreter": {
    "hash": "16fb029d2d2f281c76137439d9122480f0701165270269ef0c874281e28a4d48"
   }
  }
 },
 "nbformat": 4,
 "nbformat_minor": 4
}
